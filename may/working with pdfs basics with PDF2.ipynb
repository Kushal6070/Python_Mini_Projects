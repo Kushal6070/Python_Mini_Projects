{
 "cells": [
  {
   "cell_type": "code",
   "execution_count": 1,
   "metadata": {},
   "outputs": [],
   "source": [
    "import PyPDF2"
   ]
  },
  {
   "cell_type": "code",
   "execution_count": 2,
   "metadata": {},
   "outputs": [],
   "source": [
    "f = open('practice.pdf','rb')"
   ]
  },
  {
   "cell_type": "code",
   "execution_count": 3,
   "metadata": {},
   "outputs": [],
   "source": [
    "read_pdf = PyPDF2.PdfFileReader(f)"
   ]
  },
  {
   "cell_type": "code",
   "execution_count": 11,
   "metadata": {},
   "outputs": [],
   "source": [
    "pdf_page = read_pdf.getPage(0)"
   ]
  },
  {
   "cell_type": "code",
   "execution_count": 14,
   "metadata": {},
   "outputs": [],
   "source": [
    "pdf_content = pdf_page.extractText()"
   ]
  },
  {
   "cell_type": "code",
   "execution_count": 15,
   "metadata": {},
   "outputs": [
    {
     "data": {
      "text/plain": [
       "' \\nThe Marketing Co.\\n \\nSu\\nite 41/89\\n-\\n97 Jones St, \\n \\nUltimo NSW 200\\n7\\n \\n \\n \\n5\\nth\\n \\nAugust \\n2020\\n \\n \\nTo Whom It May Concer\\nn:\\n \\n \\n \\nThe Marketing \\nCo employed \\nKushal Bikram Magar as the \\npart\\n-\\nt\\nime \\nDigital Ma\\nrketing \\nManager \\nfrom \\n5 June 2018 till \\n19 December 2019. He s\\ntarted a\\ns a digit\\nal marketing assis\\ntant in the company and successfully made his wa\\ny \\nas \\nthe manager in his department. He successfully \\nled\\n \\nthe digital department and delivered high quality campaigns \\nfor \\nour \\nclients during his \\nstay\\n. His\\n \\ndeparture\\n \\nfrom his company was based on his own decision to explore further \\nopportunities.\\n \\n \\nAs part of his former responsibilities, Kushal me\\nt with clients \\nto discuss their digital marketing \\nrequ\\nirements\\n, \\nanal\\nyzed the\\nir\\n \\ncom\\npany\\n\\ns situation and \\nworked with \\nthe t\\neam in planning different campaigns. \\nWe would often \\nhear \\ngood things about Kusha\\nl\\n\\ns creative approach in tack\\nling digital marketing issues \\nf\\nrom his peers \\nfr\\nom \\nother \\ndepartment\\ns. His \\nability to lead \\na project\\n \\nwith his team in coordination with other departments \\ndelivering \\nprofitable campaigns w\\nere mostly endorsed by \\nour clients. \\n \\n \\nHis \\nresponsibilities during his \\nstay\\n \\nwere:\\n \\n\\n \\nMeeting \\nwith\\n \\nnew clients to discuss their \\ndigital marketing needs\\n \\n\\n \\nAnalyzing client\\n\\ns requirements and dev\\neloping a plan \\nwith the team\\n \\n\\n \\nLeading\\n \\nand working\\n \\nwith \\no\\nther departments \\nto deliver \\nprofi\\nta\\nble campaigns\\n \\n\\n \\nManaging\\n \\nPaid Social M\\nedia \\n& Digital Advertisement Cam\\npaigns\\n \\n\\n \\nDirecting\\n \\nCMS \\nfor clients on their websites\\n \\nto increase their \\nlanding page conversions\\n \\n\\n \\nAligning \\nb\\nudgets fo\\nr different ca\\nmpaigns \\nand \\ninvigilating\\n \\ncosts\\n \\n\\n \\nMake sure all campaigns\\n \\nare completed by\\n \\ndeadlin\\nes\\n \\n\\n \\nRevising an\\nd optimiz\\ning \\nthe com\\npany\\n\\ns CMS and online \\nvisibility when required\\n \\n \\nIf you would like further information regard\\ning Kushal\\n\\ns employment, you can \\ncontact\\n \\nme on\\n \\n1300 68\\n5 006 or \\nthrough \\ninfo@themarketingco.com.au\\n \\n \\nBest Regards,\\n \\n \\n \\nPatrick Akkawi\\n \\nDirector\\n \\n'"
      ]
     },
     "execution_count": 15,
     "metadata": {},
     "output_type": "execute_result"
    }
   ],
   "source": [
    "pdf_content"
   ]
  },
  {
   "cell_type": "code",
   "execution_count": 16,
   "metadata": {},
   "outputs": [],
   "source": [
    "import re"
   ]
  },
  {
   "cell_type": "code",
   "execution_count": 17,
   "metadata": {},
   "outputs": [],
   "source": [
    "f.close()"
   ]
  },
  {
   "cell_type": "code",
   "execution_count": 18,
   "metadata": {},
   "outputs": [],
   "source": [
    "f = open('practice.pdf','rb')"
   ]
  },
  {
   "cell_type": "code",
   "execution_count": 22,
   "metadata": {},
   "outputs": [],
   "source": [
    "pdf_reader = PyPDF2.PdfFileReader(f)"
   ]
  },
  {
   "cell_type": "code",
   "execution_count": 28,
   "metadata": {},
   "outputs": [],
   "source": [
    "pdf_page = pdf_reader.getPage(0)"
   ]
  },
  {
   "cell_type": "code",
   "execution_count": 29,
   "metadata": {},
   "outputs": [],
   "source": [
    "pdf_content = pdf_page.extractText()"
   ]
  },
  {
   "cell_type": "code",
   "execution_count": 31,
   "metadata": {},
   "outputs": [],
   "source": [
    "pdf_writer = PyPDF2.PdfFileWriter()"
   ]
  },
  {
   "cell_type": "code",
   "execution_count": 32,
   "metadata": {},
   "outputs": [],
   "source": [
    "pdf_writer.addPage(pdf_page)"
   ]
  },
  {
   "cell_type": "code",
   "execution_count": 33,
   "metadata": {},
   "outputs": [],
   "source": [
    "new_pdf = open('new_pdf.pdf','wb')"
   ]
  },
  {
   "cell_type": "code",
   "execution_count": 34,
   "metadata": {},
   "outputs": [],
   "source": [
    "pdf_writer.write(new_pdf)"
   ]
  },
  {
   "cell_type": "code",
   "execution_count": 35,
   "metadata": {},
   "outputs": [],
   "source": [
    "new_pdf.close()"
   ]
  },
  {
   "cell_type": "code",
   "execution_count": null,
   "metadata": {},
   "outputs": [],
   "source": []
  }
 ],
 "metadata": {
  "kernelspec": {
   "display_name": "Python 3",
   "language": "python",
   "name": "python3"
  },
  "language_info": {
   "codemirror_mode": {
    "name": "ipython",
    "version": 3
   },
   "file_extension": ".py",
   "mimetype": "text/x-python",
   "name": "python",
   "nbconvert_exporter": "python",
   "pygments_lexer": "ipython3",
   "version": "3.8.5"
  }
 },
 "nbformat": 4,
 "nbformat_minor": 4
}
